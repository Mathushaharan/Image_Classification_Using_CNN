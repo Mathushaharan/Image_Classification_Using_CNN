{
  "cells": [
    {
      "cell_type": "markdown",
      "metadata": {
        "id": "view-in-github",
        "colab_type": "text"
      },
      "source": [
        "<a href=\"https://colab.research.google.com/github/Mathushaharan/Image_Classification_Using_CNN/blob/main/Image_Classification_Using_CNN.ipynb\" target=\"_parent\"><img src=\"https://colab.research.google.com/assets/colab-badge.svg\" alt=\"Open In Colab\"/></a>"
      ]
    },
    {
      "cell_type": "markdown",
      "metadata": {
        "id": "9V7Qd4kCSZsv"
      },
      "source": [
        "Importing dependencies"
      ]
    },
    {
      "cell_type": "code",
      "execution_count": 5,
      "metadata": {
        "id": "TOEI-285SgpU"
      },
      "outputs": [],
      "source": [
        "import tensorflow as tf\n",
        "import matplotlib.pyplot as plt\n",
        "import numpy as np\n",
        "from tensorflow.keras import  datasets, layers, models\n",
        "from tensorflow.keras.layers import Dropout\n",
        "from sklearn.metrics import classification_report"
      ]
    },
    {
      "cell_type": "markdown",
      "metadata": {
        "id": "AoA4n0cdS4h1"
      },
      "source": [
        "Load dataset"
      ]
    },
    {
      "cell_type": "code",
      "execution_count": 6,
      "metadata": {
        "colab": {
          "base_uri": "https://localhost:8080/"
        },
        "id": "s-UVglVdTAKh",
        "outputId": "9fd6182a-dd0a-4622-8b52-36f369546b2a"
      },
      "outputs": [
        {
          "output_type": "stream",
          "name": "stdout",
          "text": [
            "Downloading data from https://www.cs.toronto.edu/~kriz/cifar-10-python.tar.gz\n",
            "170498071/170498071 [==============================] - 2s 0us/step\n"
          ]
        }
      ],
      "source": [
        "(X_train, Y_train), (X_test, Y_test) = datasets.cifar10.load_data()\n"
      ]
    },
    {
      "cell_type": "code",
      "execution_count": 7,
      "metadata": {
        "colab": {
          "base_uri": "https://localhost:8080/"
        },
        "id": "VjI04P3iTUsx",
        "outputId": "45e6ddae-c911-461d-856a-f361ee43ddc4"
      },
      "outputs": [
        {
          "output_type": "execute_result",
          "data": {
            "text/plain": [
              "(50000, 32, 32, 3)"
            ]
          },
          "metadata": {},
          "execution_count": 7
        }
      ],
      "source": [
        "X_train.shape"
      ]
    },
    {
      "cell_type": "code",
      "execution_count": 8,
      "metadata": {
        "colab": {
          "base_uri": "https://localhost:8080/"
        },
        "id": "qre7D8SqTjIS",
        "outputId": "e2795d59-c7a0-45b4-fe0f-38be57f957ff"
      },
      "outputs": [
        {
          "output_type": "execute_result",
          "data": {
            "text/plain": [
              "(10000, 32, 32, 3)"
            ]
          },
          "metadata": {},
          "execution_count": 8
        }
      ],
      "source": [
        "X_test.shape"
      ]
    },
    {
      "cell_type": "code",
      "execution_count": 9,
      "metadata": {
        "colab": {
          "base_uri": "https://localhost:8080/"
        },
        "id": "OQ9Uwx_LWzHI",
        "outputId": "3b6fe4ac-fb4f-42fe-cf9f-9d18c5ad87e7"
      },
      "outputs": [
        {
          "output_type": "execute_result",
          "data": {
            "text/plain": [
              "array([6, 9, 9, ..., 9, 1, 1], dtype=uint8)"
            ]
          },
          "metadata": {},
          "execution_count": 9
        }
      ],
      "source": [
        "Y_train = Y_train.reshape(-1,)  #Reshaping the array\n",
        "Y_train"
      ]
    },
    {
      "cell_type": "markdown",
      "metadata": {
        "id": "mzN0C0IEUAgj"
      },
      "source": [
        "Viewing some image data"
      ]
    },
    {
      "cell_type": "code",
      "execution_count": 10,
      "metadata": {
        "id": "0yOAzlciT6JG"
      },
      "outputs": [],
      "source": [
        "classes = [\"airplane\", \"automobile\", \"bird\", \"cat\" , \"deer\", \"dog\", \"frog\", \"horse\", \"ship\", \"truck\"]\n",
        "\n",
        "def plot_samples(x,y,i):\n",
        "  plt.figure(figsize= (15,2)) #width and height\n",
        "  plt.imshow(x[i])\n",
        "  plt.xlabel(classes[y[i]])"
      ]
    },
    {
      "cell_type": "code",
      "execution_count": 11,
      "metadata": {
        "colab": {
          "base_uri": "https://localhost:8080/",
          "height": 237
        },
        "id": "Xf0t1z_cUKQX",
        "outputId": "423fdd86-f403-42c7-eb06-7a922b508e5e"
      },
      "outputs": [
        {
          "output_type": "display_data",
          "data": {
            "text/plain": [
              "<Figure size 1500x200 with 1 Axes>"
            ],
            "image/png": "[encoded data removed]"
          },
          "metadata": {}
        }
      ],
      "source": [
        "plot_samples(X_train, Y_train , 49999)"
      ]
    },
    {
      "cell_type": "markdown",
      "metadata": {
        "id": "_ICLMJMZYqK8"
      },
      "source": [
        "Normalizing the data"
      ]
    },
    {
      "cell_type": "code",
      "execution_count": 12,
      "metadata": {
        "colab": {
          "base_uri": "https://localhost:8080/"
        },
        "id": "Fsf_8Qd8VZsZ",
        "outputId": "e747ddd7-390f-4c6d-e0fa-3ddc362e0652"
      },
      "outputs": [
        {
          "output_type": "execute_result",
          "data": {
            "text/plain": [
              "array([6, 9, 9, ..., 9, 1, 1], dtype=uint8)"
            ]
          },
          "metadata": {},
          "execution_count": 12
        }
      ],
      "source": [
        "X_train = X_train / 255\n",
        "X_test = X_test / 255\n",
        "Y_train"
      ]
    },
    {
      "cell_type": "code",
      "source": [
        "opt = tf.keras.optimizers.Adam(0.001) #learning rate is 0.001"
      ],
      "metadata": {
        "id": "1xJSGwKvdUOo"
      },
      "execution_count": 13,
      "outputs": []
    },
    {
      "cell_type": "code",
      "execution_count": 14,
      "metadata": {
        "colab": {
          "base_uri": "https://localhost:8080/"
        },
        "id": "5xBjRtY5VgTq",
        "outputId": "29881748-f8f9-43e0-bf40-336df6246266"
      },
      "outputs": [
        {
          "output_type": "stream",
          "name": "stdout",
          "text": [
            "Epoch 1/1000\n",
            "1167/1167 [==============================] - 20s 7ms/step - loss: 2.0620 - accuracy: 0.1910 - val_loss: 1.7970 - val_accuracy: 0.3142\n",
            "Epoch 2/1000\n",
            "1167/1167 [==============================] - 7s 6ms/step - loss: 1.7915 - accuracy: 0.3025 - val_loss: 1.6035 - val_accuracy: 0.3763\n",
            "Epoch 3/1000\n",
            "1167/1167 [==============================] - 7s 6ms/step - loss: 1.6457 - accuracy: 0.3777 - val_loss: 1.4374 - val_accuracy: 0.4668\n",
            "Epoch 4/1000\n",
            "1167/1167 [==============================] - 7s 6ms/step - loss: 1.5332 - accuracy: 0.4281 - val_loss: 1.3769 - val_accuracy: 0.4843\n",
            "Epoch 5/1000\n",
            "1167/1167 [==============================] - 7s 6ms/step - loss: 1.4618 - accuracy: 0.4580 - val_loss: 1.3667 - val_accuracy: 0.4889\n",
            "Epoch 6/1000\n",
            "1167/1167 [==============================] - 7s 6ms/step - loss: 1.4049 - accuracy: 0.4815 - val_loss: 1.3386 - val_accuracy: 0.5041\n",
            "Epoch 7/1000\n",
            "1167/1167 [==============================] - 7s 6ms/step - loss: 1.3641 - accuracy: 0.5001 - val_loss: 1.2841 - val_accuracy: 0.5297\n",
            "Epoch 8/1000\n",
            "1167/1167 [==============================] - 7s 6ms/step - loss: 1.3293 - accuracy: 0.5162 - val_loss: 1.2324 - val_accuracy: 0.5535\n",
            "Epoch 9/1000\n",
            "1167/1167 [==============================] - 8s 7ms/step - loss: 1.2815 - accuracy: 0.5359 - val_loss: 1.2446 - val_accuracy: 0.5641\n",
            "Epoch 10/1000\n",
            "1167/1167 [==============================] - 7s 6ms/step - loss: 1.2544 - accuracy: 0.5489 - val_loss: 1.2614 - val_accuracy: 0.5563\n",
            "Epoch 11/1000\n",
            "1167/1167 [==============================] - 7s 6ms/step - loss: 1.2153 - accuracy: 0.5680 - val_loss: 1.1885 - val_accuracy: 0.5917\n",
            "Epoch 12/1000\n",
            "1167/1167 [==============================] - 6s 5ms/step - loss: 1.1878 - accuracy: 0.5823 - val_loss: 1.2124 - val_accuracy: 0.5913\n",
            "Epoch 13/1000\n",
            "1167/1167 [==============================] - 7s 6ms/step - loss: 1.1552 - accuracy: 0.5946 - val_loss: 1.1637 - val_accuracy: 0.6043\n",
            "Epoch 14/1000\n",
            "1167/1167 [==============================] - 9s 8ms/step - loss: 1.1250 - accuracy: 0.6054 - val_loss: 1.1913 - val_accuracy: 0.6095\n",
            "Epoch 15/1000\n",
            "1167/1167 [==============================] - 6s 5ms/step - loss: 1.1196 - accuracy: 0.6126 - val_loss: 1.1527 - val_accuracy: 0.6151\n",
            "Epoch 16/1000\n",
            "1167/1167 [==============================] - 7s 6ms/step - loss: 1.0761 - accuracy: 0.6276 - val_loss: 1.1373 - val_accuracy: 0.6309\n",
            "Epoch 17/1000\n",
            "1167/1167 [==============================] - 6s 5ms/step - loss: 1.0651 - accuracy: 0.6312 - val_loss: 1.1075 - val_accuracy: 0.6343\n",
            "Epoch 18/1000\n",
            "1167/1167 [==============================] - 7s 6ms/step - loss: 1.0408 - accuracy: 0.6451 - val_loss: 1.1791 - val_accuracy: 0.6283\n",
            "Epoch 19/1000\n",
            "1167/1167 [==============================] - 7s 6ms/step - loss: 1.0313 - accuracy: 0.6474 - val_loss: 1.1499 - val_accuracy: 0.6269\n",
            "Epoch 20/1000\n",
            "1167/1167 [==============================] - 7s 6ms/step - loss: 1.0039 - accuracy: 0.6581 - val_loss: 1.1348 - val_accuracy: 0.6388\n",
            "Epoch 21/1000\n",
            "1167/1167 [==============================] - 7s 6ms/step - loss: 0.9869 - accuracy: 0.6650 - val_loss: 1.1189 - val_accuracy: 0.6421\n",
            "Epoch 22/1000\n",
            "1167/1167 [==============================] - 7s 6ms/step - loss: 0.9779 - accuracy: 0.6679 - val_loss: 1.1428 - val_accuracy: 0.6427\n",
            "Epoch 23/1000\n",
            "1167/1167 [==============================] - 7s 6ms/step - loss: 0.9647 - accuracy: 0.6738 - val_loss: 1.1235 - val_accuracy: 0.6461\n",
            "Epoch 24/1000\n",
            "1167/1167 [==============================] - 6s 6ms/step - loss: 0.9448 - accuracy: 0.6804 - val_loss: 1.1095 - val_accuracy: 0.6575\n",
            "Epoch 25/1000\n",
            "1167/1167 [==============================] - 7s 6ms/step - loss: 0.9491 - accuracy: 0.6837 - val_loss: 1.1801 - val_accuracy: 0.6528\n",
            "Epoch 26/1000\n",
            "1167/1167 [==============================] - 6s 5ms/step - loss: 0.9146 - accuracy: 0.6918 - val_loss: 1.1978 - val_accuracy: 0.6437\n",
            "Epoch 27/1000\n",
            "1167/1167 [==============================] - 7s 6ms/step - loss: 0.9047 - accuracy: 0.6947 - val_loss: 1.1256 - val_accuracy: 0.6535\n",
            "Epoch 28/1000\n",
            "1167/1167 [==============================] - 6s 5ms/step - loss: 0.8883 - accuracy: 0.6978 - val_loss: 1.1657 - val_accuracy: 0.6565\n",
            "Epoch 29/1000\n",
            "1167/1167 [==============================] - 7s 6ms/step - loss: 0.8899 - accuracy: 0.7024 - val_loss: 1.1401 - val_accuracy: 0.6539\n",
            "Epoch 30/1000\n",
            "1167/1167 [==============================] - 7s 6ms/step - loss: 0.8658 - accuracy: 0.7072 - val_loss: 1.1379 - val_accuracy: 0.6586\n",
            "Epoch 31/1000\n",
            "1167/1167 [==============================] - 7s 6ms/step - loss: 0.8546 - accuracy: 0.7141 - val_loss: 1.2125 - val_accuracy: 0.6521\n",
            "Epoch 32/1000\n",
            "1167/1167 [==============================] - 7s 6ms/step - loss: 0.8465 - accuracy: 0.7175 - val_loss: 1.1953 - val_accuracy: 0.6572\n",
            "Epoch 33/1000\n",
            "1167/1167 [==============================] - 7s 6ms/step - loss: 0.8410 - accuracy: 0.7172 - val_loss: 1.2039 - val_accuracy: 0.6604\n",
            "Epoch 34/1000\n",
            "1167/1167 [==============================] - 8s 6ms/step - loss: 0.8407 - accuracy: 0.7192 - val_loss: 1.2020 - val_accuracy: 0.6641\n",
            "Epoch 35/1000\n",
            "1167/1167 [==============================] - 7s 6ms/step - loss: 0.8144 - accuracy: 0.7297 - val_loss: 1.1458 - val_accuracy: 0.6571\n",
            "Epoch 36/1000\n",
            "1167/1167 [==============================] - 7s 6ms/step - loss: 0.8286 - accuracy: 0.7247 - val_loss: 1.2352 - val_accuracy: 0.6471\n",
            "Epoch 37/1000\n",
            "1167/1167 [==============================] - 7s 6ms/step - loss: 0.8088 - accuracy: 0.7296 - val_loss: 1.2109 - val_accuracy: 0.6713\n",
            "Epoch 37: early stopping\n"
          ]
        }
      ],
      "source": [
        "cnn = models.Sequential([\n",
        "    #cnn\n",
        "    layers.Conv2D(filters = 32, kernel_size = (3,3), activation = 'relu', input_shape = (32,32,3)),\n",
        "    layers.MaxPool2D((2,2)),\n",
        "\n",
        "    layers.Conv2D(filters = 64, kernel_size = (3,3), activation = 'relu'),\n",
        "    layers.MaxPool2D((2,2)),\n",
        "\n",
        "    layers.Conv2D(filters = 128, kernel_size = (3,3), activation = 'relu'),\n",
        "    layers.MaxPool2D((2,2)),\n",
        "\n",
        "    #dense\n",
        "    layers.Flatten(),\n",
        "    layers.Dense(128, activation = 'relu'),\n",
        "    Dropout(0.5),\n",
        "    layers.Dense(64, activation = 'relu'),\n",
        "    Dropout(0.5),\n",
        "    layers.Dense(32, activation = 'relu'),\n",
        "    Dropout(0.5),\n",
        "    layers.Dense(10, activation = 'softmax')\n",
        "])\n",
        "\n",
        "cnn.compile(optimizer = opt, loss = 'sparse_categorical_crossentropy', metrics = ['accuracy'])\n",
        "\n",
        "##Implementing early stopping\n",
        "early_stop = tf.keras.callbacks.EarlyStopping(\n",
        "    monitor=\"val_loss\",\n",
        "    min_delta=0.0001,\n",
        "    patience=20,\n",
        "    verbose=1,\n",
        "    mode=\"auto\",\n",
        "    baseline=None,\n",
        "    restore_best_weights=False,\n",
        "    start_from_epoch=0,\n",
        ")\n",
        "\n",
        "model_history = cnn.fit(X_train, Y_train, epochs = 1000, validation_split = 0.3, batch_size = 30, callbacks = early_stop)"
      ]
    },
    {
      "cell_type": "code",
      "execution_count": 15,
      "metadata": {
        "colab": {
          "base_uri": "https://localhost:8080/"
        },
        "id": "5FA_HoNmamL-",
        "outputId": "9a305cd9-982e-4474-e8c5-e3610d116dc3"
      },
      "outputs": [
        {
          "output_type": "stream",
          "name": "stdout",
          "text": [
            "313/313 [==============================] - 1s 3ms/step - loss: 1.2391 - accuracy: 0.6635\n"
          ]
        },
        {
          "output_type": "execute_result",
          "data": {
            "text/plain": [
              "[1.239113211631775, 0.6635000109672546]"
            ]
          },
          "metadata": {},
          "execution_count": 15
        }
      ],
      "source": [
        "Y_test = Y_test.reshape(-1,)\n",
        "cnn.evaluate(X_test, Y_test)"
      ]
    },
    {
      "cell_type": "markdown",
      "source": [
        "Summarize history for accuracy"
      ],
      "metadata": {
        "id": "W8xP4cfuyqQp"
      }
    },
    {
      "cell_type": "code",
      "execution_count": 16,
      "metadata": {
        "id": "Zy4VbhI-pr-G",
        "colab": {
          "base_uri": "https://localhost:8080/",
          "height": 472
        },
        "outputId": "ac1d0d9d-c944-4328-a95a-d8da16303ade"
      },
      "outputs": [
        {
          "output_type": "display_data",
          "data": {
            "text/plain": [
              "<Figure size 640x480 with 1 Axes>"
            ],
            "image/png": "[encoded data removed]"
          },
          "metadata": {}
        }
      ],
      "source": [
        "plt.plot(model_history.history['accuracy'])\n",
        "plt.plot(model_history.history['val_accuracy'])\n",
        "plt.title('model accuracy')\n",
        "plt.ylabel('accuracy')\n",
        "plt.xlabel('epochs')\n",
        "plt.legend(['train', 'test'], loc = 'upper left')\n",
        "plt.show()"
      ]
    },
    {
      "cell_type": "code",
      "source": [
        "Y_pred = cnn.predict(X_test)"
      ],
      "metadata": {
        "colab": {
          "base_uri": "https://localhost:8080/"
        },
        "id": "SBlnViDvqa6H",
        "outputId": "1a75d84e-5cd8-42ed-b34e-76f8e5517a3f"
      },
      "execution_count": 17,
      "outputs": [
        {
          "output_type": "stream",
          "name": "stdout",
          "text": [
            "313/313 [==============================] - 1s 3ms/step\n"
          ]
        }
      ]
    },
    {
      "cell_type": "code",
      "source": [
        "Y_pred[0]"
      ],
      "metadata": {
        "colab": {
          "base_uri": "https://localhost:8080/"
        },
        "id": "7iI1d8dk0D_x",
        "outputId": "fa0d6fb7-e8fa-4759-9347-2a93fa8ae82f"
      },
      "execution_count": 18,
      "outputs": [
        {
          "output_type": "execute_result",
          "data": {
            "text/plain": [
              "array([5.5239193e-06, 3.1209680e-07, 2.3901232e-02, 4.0900815e-01,\n",
              "       1.6785862e-03, 5.5876404e-01, 5.5411702e-04, 6.0862899e-03,\n",
              "       8.1134465e-07, 9.9477825e-07], dtype=float32)"
            ]
          },
          "metadata": {},
          "execution_count": 18
        }
      ]
    },
    {
      "cell_type": "code",
      "source": [
        "np.argmax(Y_pred[1])"
      ],
      "metadata": {
        "colab": {
          "base_uri": "https://localhost:8080/"
        },
        "id": "ntmArl4d0HSb",
        "outputId": "18a4b14f-6356-4282-b816-8986d4dc788f"
      },
      "execution_count": 25,
      "outputs": [
        {
          "output_type": "execute_result",
          "data": {
            "text/plain": [
              "8"
            ]
          },
          "metadata": {},
          "execution_count": 25
        }
      ]
    },
    {
      "cell_type": "code",
      "source": [
        "Y_classes = [np.argmax(element) for element in Y_pred]\n",
        "Y_classes[:5]"
      ],
      "metadata": {
        "colab": {
          "base_uri": "https://localhost:8080/"
        },
        "id": "7dGsmTom1JkC",
        "outputId": "f4b8e9ca-1f8c-46e5-f513-07516c60df7d"
      },
      "execution_count": 20,
      "outputs": [
        {
          "output_type": "execute_result",
          "data": {
            "text/plain": [
              "[5, 8, 8, 0, 6]"
            ]
          },
          "metadata": {},
          "execution_count": 20
        }
      ]
    },
    {
      "cell_type": "code",
      "source": [
        "Y_test[:5]"
      ],
      "metadata": {
        "colab": {
          "base_uri": "https://localhost:8080/"
        },
        "id": "3V_raMWH1fs-",
        "outputId": "69f3408f-af7f-4f75-e958-d62a2a8bca84"
      },
      "execution_count": 21,
      "outputs": [
        {
          "output_type": "execute_result",
          "data": {
            "text/plain": [
              "array([3, 8, 8, 0, 6], dtype=uint8)"
            ]
          },
          "metadata": {},
          "execution_count": 21
        }
      ]
    },
    {
      "cell_type": "code",
      "source": [
        "plot_samples(X_test, Y_test, 1)"
      ],
      "metadata": {
        "colab": {
          "base_uri": "https://localhost:8080/",
          "height": 237
        },
        "id": "zAU_5LQY1-PU",
        "outputId": "ce7117f2-c471-44c3-eb57-f3eb99f15dd7"
      },
      "execution_count": 22,
      "outputs": [
        {
          "output_type": "display_data",
          "data": {
            "text/plain": [
              "<Figure size 1500x200 with 1 Axes>"
            ],
            "image/png": "[encoded data removed]"
          },
          "metadata": {}
        }
      ]
    },
    {
      "cell_type": "code",
      "source": [
        "classes[Y_classes[1]]"
      ],
      "metadata": {
        "colab": {
          "base_uri": "https://localhost:8080/",
          "height": 35
        },
        "id": "LNDHUFFH2KWe",
        "outputId": "c9dae2e1-77bd-4de9-84c2-afce452d45a2"
      },
      "execution_count": 23,
      "outputs": [
        {
          "output_type": "execute_result",
          "data": {
            "text/plain": [
              "'ship'"
            ],
            "application/vnd.google.colaboratory.intrinsic+json": {
              "type": "string"
            }
          },
          "metadata": {},
          "execution_count": 23
        }
      ]
    },
    {
      "cell_type": "markdown",
      "source": [
        "Classification report"
      ],
      "metadata": {
        "id": "6usLS4NP2fMw"
      }
    },
    {
      "cell_type": "code",
      "source": [
        "print(\"classification report: \\n\" , classification_report(Y_test, Y_classes))"
      ],
      "metadata": {
        "colab": {
          "base_uri": "https://localhost:8080/"
        },
        "id": "phTyt3SE2V1S",
        "outputId": "d3e4c427-8aa2-4543-b566-faf2a9d553d7"
      },
      "execution_count": 24,
      "outputs": [
        {
          "output_type": "stream",
          "name": "stdout",
          "text": [
            "classification report: \n",
            "               precision    recall  f1-score   support\n",
            "\n",
            "           0       0.69      0.73      0.71      1000\n",
            "           1       0.86      0.77      0.81      1000\n",
            "           2       0.53      0.47      0.50      1000\n",
            "           3       0.40      0.45      0.42      1000\n",
            "           4       0.63      0.60      0.61      1000\n",
            "           5       0.62      0.52      0.57      1000\n",
            "           6       0.69      0.81      0.74      1000\n",
            "           7       0.75      0.69      0.72      1000\n",
            "           8       0.78      0.80      0.79      1000\n",
            "           9       0.71      0.80      0.75      1000\n",
            "\n",
            "    accuracy                           0.66     10000\n",
            "   macro avg       0.67      0.66      0.66     10000\n",
            "weighted avg       0.67      0.66      0.66     10000\n",
            "\n"
          ]
        }
      ]
    },
    {
      "cell_type": "code",
      "source": [],
      "metadata": {
        "id": "odk5oilU2tBD"
      },
      "execution_count": 24,
      "outputs": []
    }
  ],
  "metadata": {
    "accelerator": "GPU",
    "colab": {
      "provenance": [],
      "authorship_tag": "ABX9TyMmBv4r96Z7UwcIsnPconSf",
      "include_colab_link": true
    },
    "kernelspec": {
      "display_name": "Python 3",
      "name": "python3"
    },
    "language_info": {
      "name": "python"
    }
  },
  "nbformat": 4,
  "nbformat_minor": 0
}